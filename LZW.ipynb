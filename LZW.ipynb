{
 "cells": [
  {
   "cell_type": "code",
   "execution_count": 1,
   "metadata": {},
   "outputs": [
    {
     "data": {
      "text/plain": [
       "decode_LZW (generic function with 1 method)"
      ]
     },
     "execution_count": 1,
     "metadata": {},
     "output_type": "execute_result"
    }
   ],
   "source": [
    "# function to encode into LZW compression\n",
    "function encode_LZW(data)\n",
    "    # emppty dict for storing the key to a \n",
    "    # concatenation of symbols\n",
    "    hm = Dict()\n",
    "    \n",
    "    # array for output result\n",
    "    out = []\n",
    "    \n",
    "    # collect single symbols and their codes\n",
    "    i = 1\n",
    "    for c in data\n",
    "        c = string(c)\n",
    "        if ~ haskey(hm, c)\n",
    "            hm[c] = i\n",
    "            i += 1\n",
    "        end\n",
    "    end\n",
    "    \n",
    "    # compressing\n",
    "    # crs = currenty recognized sequence\n",
    "    crs = string(data[1])\n",
    "    for c in data[2:end]\n",
    "        # convert char to string\n",
    "        c = string(c)\n",
    "        \n",
    "        # if sequence is already in dict, do nothing\n",
    "        if haskey(hm, string(crs, c))\n",
    "            crs = string(crs, c)\n",
    "        # if not in dict, encode current crs\n",
    "        else\n",
    "            # attach possibly new sequence into dict\n",
    "            hm[string(crs, c)] = i\n",
    "            i += 1\n",
    "            push!(out, hm[crs])\n",
    "            crs = c\n",
    "        end\n",
    "    end\n",
    "    # add final symbol to output\n",
    "    push!(out, hm[crs])\n",
    "    return hm, out\n",
    "end\n",
    "\n",
    "function decode_LZW(hm, out)\n",
    "    # reverse dict to get inverse the code\n",
    "    dict = Dict(value => key for (key, value) in hm)\n",
    "    # map list of codes to input string\n",
    "    return string(map(x -> dict[x], out)...)\n",
    "end"
   ]
  },
  {
   "cell_type": "code",
   "execution_count": 2,
   "metadata": {},
   "outputs": [
    {
     "name": "stdout",
     "output_type": "stream",
     "text": [
      "out = Any[1, 1, 2, 2, 3, 5, 7, 6, 4, 2]\n",
      "Original length: 16\n",
      "Encoded length: 10\n",
      "Decoded and input are the same: true"
     ]
    }
   ],
   "source": [
    "hm = Dict{String, Int}()\n",
    "data = \"aabbaabbaabbaabb\"\n",
    "#data = \"abrakadabra\"\n",
    "\n",
    "hm, out = encode_LZW(data)\n",
    "@show out\n",
    "\n",
    "print(\"Original length: \", length(data), \n",
    "      \"\\nEncoded length: \", length(out), \"\\n\")\n",
    "\n",
    "print(\"Decoded and input are the same: \",\n",
    "      decode_LZW(hm, out) == data)\n",
    "\n"
   ]
  },
  {
   "cell_type": "code",
   "execution_count": null,
   "metadata": {},
   "outputs": [],
   "source": []
  }
 ],
 "metadata": {
  "kernelspec": {
   "display_name": "Julia 1.4.1",
   "language": "julia",
   "name": "julia-1.4"
  },
  "language_info": {
   "file_extension": ".jl",
   "mimetype": "application/julia",
   "name": "julia",
   "version": "1.4.2"
  }
 },
 "nbformat": 4,
 "nbformat_minor": 2
}
