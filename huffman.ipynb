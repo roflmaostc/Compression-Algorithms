{
 "cells": [
  {
   "cell_type": "code",
   "execution_count": 1,
   "metadata": {},
   "outputs": [],
   "source": [
    "using Revise, DataStructures"
   ]
  },
  {
   "cell_type": "code",
   "execution_count": 2,
   "metadata": {},
   "outputs": [],
   "source": [
    "module Huffman \n",
    "export Node \n",
    "export generate_huffman_code\n",
    "\n",
    "using DataStructures\n",
    "\n",
    "# a binary tree to store the string, probability\n",
    "# and left and right child\n",
    "struct Node\n",
    "    symbol::String\n",
    "    prob::Float64\n",
    "    left::Union{Node, Nothing}\n",
    "    right::Union{Node, Nothing}\n",
    "end\n",
    "\n",
    "# convert a list of symbols with a probability\n",
    "# into a priority queue\n",
    "function from_list!(pq, list)\n",
    "    # go through a symbols and add them to priority queue\n",
    "    for (str, prob) in list\n",
    "        enqueue!(pq, Node(str, prob, nothing, nothing), prob)\n",
    "    end\n",
    "    return pq\n",
    "end\n",
    "\n",
    "# generate a huffman tree from priority queue\n",
    "function generate_huffman_tree!(pq)\n",
    "    \n",
    "    while length(pq) > 1\n",
    "        a = dequeue!(pq)\n",
    "        b = dequeue!(pq)\n",
    "        new_node = Node(string(a.symbol, b.symbol),\n",
    "                        a.prob + b.prob,\n",
    "                        a, b)\n",
    "        enqueue!(pq, new_node, new_node.prob)\n",
    "    end\n",
    "    \n",
    "    return dequeue!(pq)\n",
    "end\n",
    "\n",
    "# generate huffman code from an array\n",
    "function generate_huffman_code(arr)\n",
    "    # first generate priority queue\n",
    "    pq = from_list!(PriorityQueue{Node, Float64}(), arr)\n",
    "    # array to store the final result\n",
    "    code = []\n",
    "    # generate the huffman tree\n",
    "    tree = generate_huffman_tree!(pq)\n",
    "    # go recursively to left and right child\n",
    "    generate_huffman_code_aux(tree.left, code, \"0\")\n",
    "    generate_huffman_code_aux(tree.right, code, \"1\")\n",
    "    return code \n",
    "end\n",
    "\n",
    "# helper function which is recursively called\n",
    "function generate_huffman_code_aux(tree, code, suffix)\n",
    "    # if tree ends, stop\n",
    "    if tree == nothing\n",
    "        return\n",
    "    end\n",
    "    # if left and right child are nothing, we reach a leaf\n",
    "    # and store the current code\n",
    "    if tree.left == nothing && tree.right == nothing\n",
    "        return push!(code, (tree.symbol, suffix))\n",
    "    end\n",
    "    # recursive call left and right\n",
    "    generate_huffman_code_aux(tree.left, code, string(suffix, \"0\"))\n",
    "    generate_huffman_code_aux(tree.right, code, string(suffix, \"1\"))\n",
    "    return\n",
    "end\n",
    "\n",
    "end\n",
    "using .Huffman"
   ]
  },
  {
   "cell_type": "code",
   "execution_count": 3,
   "metadata": {},
   "outputs": [
    {
     "name": "stdout",
     "output_type": "stream",
     "text": [
      "  0.198552 seconds (398.71 k allocations: 19.909 MiB)\n"
     ]
    },
    {
     "data": {
      "text/plain": [
       "5-element Array{Any,1}:\n",
       " (\"A\", \"010\")\n",
       " (\"B\", \"011\")\n",
       " (\"C\", \"11\")\n",
       " (\"D\", \"00\")\n",
       " (\"E\", \"10\")"
      ]
     },
     "execution_count": 3,
     "metadata": {},
     "output_type": "execute_result"
    }
   ],
   "source": [
    "x = [(\"A\", 0.1), (\"B\", 0.15), (\"C\", 0.3), (\"D\", 0.16), (\"E\", 0.29)];\n",
    "#x = [(\"A\", 0.4), (\"B\", 0.3), (\"C\", 0.1), (\"D\", 0.1), (\"E\", 0.06), (\"F\", 0.04)];\n",
    "\n",
    "@time code = generate_huffman_code(x)\n",
    "\n",
    "sort(code)"
   ]
  }
 ],
 "metadata": {
  "kernelspec": {
   "display_name": "Julia 1.4.1",
   "language": "julia",
   "name": "julia-1.4"
  },
  "language_info": {
   "file_extension": ".jl",
   "mimetype": "application/julia",
   "name": "julia",
   "version": "1.4.2"
  }
 },
 "nbformat": 4,
 "nbformat_minor": 2
}
